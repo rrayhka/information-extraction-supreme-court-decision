{
 "cells": [
  {
   "cell_type": "code",
   "execution_count": 1,
   "metadata": {
    "colab": {
     "base_uri": "https://localhost:8080/"
    },
    "executionInfo": {
     "elapsed": 4085,
     "status": "ok",
     "timestamp": 1683194246000,
     "user": {
      "displayName": "Ahmad Farisul Haq",
      "userId": "07167143471873573412"
     },
     "user_tz": -420
    },
    "id": "g4eZdKP3L3_l",
    "outputId": "ce99e525-2514-4a0c-b084-b1fa6a0c39e2"
   },
   "outputs": [
    {
     "name": "stdout",
     "output_type": "stream",
     "text": [
      "Looking in indexes: https://pypi.org/simple, https://us-python.pkg.dev/colab-wheels/public/simple/\n",
      "Requirement already satisfied: protobuf in /usr/local/lib/python3.10/dist-packages (3.20.2)\n"
     ]
    }
   ],
   "source": [
    "# !pip install protobuf=3.20.2\n",
    "!pip install protobuf"
   ]
  },
  {
   "cell_type": "code",
   "execution_count": 2,
   "metadata": {
    "colab": {
     "base_uri": "https://localhost:8080/"
    },
    "executionInfo": {
     "elapsed": 9139,
     "status": "ok",
     "timestamp": 1683194257474,
     "user": {
      "displayName": "Ahmad Farisul Haq",
      "userId": "07167143471873573412"
     },
     "user_tz": -420
    },
    "id": "en9bUDg3P6Pm",
    "outputId": "938d5e66-9895-49a1-f5de-81321191337f"
   },
   "outputs": [
    {
     "name": "stdout",
     "output_type": "stream",
     "text": [
      "Looking in indexes: https://pypi.org/simple, https://us-python.pkg.dev/colab-wheels/public/simple/\n",
      "Requirement already satisfied: flair in /usr/local/lib/python3.10/dist-packages (0.12.2)\n",
      "Requirement already satisfied: janome in /usr/local/lib/python3.10/dist-packages (from flair) (0.4.2)\n",
      "Requirement already satisfied: wikipedia-api in /usr/local/lib/python3.10/dist-packages (from flair) (0.5.8)\n",
      "Requirement already satisfied: pptree in /usr/local/lib/python3.10/dist-packages (from flair) (3.1)\n",
      "Requirement already satisfied: ftfy in /usr/local/lib/python3.10/dist-packages (from flair) (6.1.1)\n",
      "Requirement already satisfied: gdown==4.4.0 in /usr/local/lib/python3.10/dist-packages (from flair) (4.4.0)\n",
      "Requirement already satisfied: matplotlib>=2.2.3 in /usr/local/lib/python3.10/dist-packages (from flair) (3.7.1)\n",
      "Requirement already satisfied: tabulate in /usr/local/lib/python3.10/dist-packages (from flair) (0.8.10)\n",
      "Requirement already satisfied: tqdm>=4.26.0 in /usr/local/lib/python3.10/dist-packages (from flair) (4.65.0)\n",
      "Requirement already satisfied: hyperopt>=0.2.7 in /usr/local/lib/python3.10/dist-packages (from flair) (0.2.7)\n",
      "Requirement already satisfied: torch!=1.8,>=1.5.0 in /usr/local/lib/python3.10/dist-packages (from flair) (2.0.0+cu118)\n",
      "Requirement already satisfied: mpld3==0.3 in /usr/local/lib/python3.10/dist-packages (from flair) (0.3)\n",
      "Requirement already satisfied: gensim>=3.8.0 in /usr/local/lib/python3.10/dist-packages (from flair) (4.3.1)\n",
      "Requirement already satisfied: huggingface-hub>=0.10.0 in /usr/local/lib/python3.10/dist-packages (from flair) (0.14.1)\n",
      "Requirement already satisfied: sqlitedict>=1.6.0 in /usr/local/lib/python3.10/dist-packages (from flair) (2.1.0)\n",
      "Requirement already satisfied: scikit-learn>=0.21.3 in /usr/local/lib/python3.10/dist-packages (from flair) (1.2.2)\n",
      "Requirement already satisfied: transformer-smaller-training-vocab>=0.2.1 in /usr/local/lib/python3.10/dist-packages (from flair) (0.2.3)\n",
      "Requirement already satisfied: transformers[sentencepiece]>=4.18.0 in /usr/local/lib/python3.10/dist-packages (from flair) (4.28.1)\n",
      "Requirement already satisfied: deprecated>=1.2.4 in /usr/local/lib/python3.10/dist-packages (from flair) (1.2.13)\n",
      "Requirement already satisfied: boto3 in /usr/local/lib/python3.10/dist-packages (from flair) (1.26.126)\n",
      "Requirement already satisfied: more-itertools in /usr/local/lib/python3.10/dist-packages (from flair) (9.1.0)\n",
      "Requirement already satisfied: python-dateutil>=2.6.1 in /usr/local/lib/python3.10/dist-packages (from flair) (2.8.2)\n",
      "Requirement already satisfied: bpemb>=0.3.2 in /usr/local/lib/python3.10/dist-packages (from flair) (0.3.4)\n",
      "Requirement already satisfied: pytorch-revgrad in /usr/local/lib/python3.10/dist-packages (from flair) (0.2.0)\n",
      "Requirement already satisfied: regex in /usr/local/lib/python3.10/dist-packages (from flair) (2022.10.31)\n",
      "Requirement already satisfied: conllu>=4.0 in /usr/local/lib/python3.10/dist-packages (from flair) (4.5.2)\n",
      "Requirement already satisfied: langdetect in /usr/local/lib/python3.10/dist-packages (from flair) (1.0.9)\n",
      "Requirement already satisfied: lxml in /usr/local/lib/python3.10/dist-packages (from flair) (4.9.2)\n",
      "Requirement already satisfied: segtok>=1.5.7 in /usr/local/lib/python3.10/dist-packages (from flair) (1.5.11)\n",
      "Requirement already satisfied: six in /usr/local/lib/python3.10/dist-packages (from gdown==4.4.0->flair) (1.16.0)\n",
      "Requirement already satisfied: requests[socks] in /usr/local/lib/python3.10/dist-packages (from gdown==4.4.0->flair) (2.27.1)\n",
      "Requirement already satisfied: filelock in /usr/local/lib/python3.10/dist-packages (from gdown==4.4.0->flair) (3.12.0)\n",
      "Requirement already satisfied: beautifulsoup4 in /usr/local/lib/python3.10/dist-packages (from gdown==4.4.0->flair) (4.11.2)\n",
      "Requirement already satisfied: numpy in /usr/local/lib/python3.10/dist-packages (from bpemb>=0.3.2->flair) (1.22.4)\n",
      "Requirement already satisfied: sentencepiece in /usr/local/lib/python3.10/dist-packages (from bpemb>=0.3.2->flair) (0.1.99)\n",
      "Requirement already satisfied: wrapt<2,>=1.10 in /usr/local/lib/python3.10/dist-packages (from deprecated>=1.2.4->flair) (1.14.1)\n",
      "Requirement already satisfied: smart-open>=1.8.1 in /usr/local/lib/python3.10/dist-packages (from gensim>=3.8.0->flair) (6.3.0)\n",
      "Requirement already satisfied: scipy>=1.7.0 in /usr/local/lib/python3.10/dist-packages (from gensim>=3.8.0->flair) (1.10.1)\n",
      "Requirement already satisfied: packaging>=20.9 in /usr/local/lib/python3.10/dist-packages (from huggingface-hub>=0.10.0->flair) (23.1)\n",
      "Requirement already satisfied: pyyaml>=5.1 in /usr/local/lib/python3.10/dist-packages (from huggingface-hub>=0.10.0->flair) (6.0)\n",
      "Requirement already satisfied: fsspec in /usr/local/lib/python3.10/dist-packages (from huggingface-hub>=0.10.0->flair) (2023.4.0)\n",
      "Requirement already satisfied: typing-extensions>=3.7.4.3 in /usr/local/lib/python3.10/dist-packages (from huggingface-hub>=0.10.0->flair) (4.5.0)\n",
      "Requirement already satisfied: networkx>=2.2 in /usr/local/lib/python3.10/dist-packages (from hyperopt>=0.2.7->flair) (3.1)\n",
      "Requirement already satisfied: py4j in /usr/local/lib/python3.10/dist-packages (from hyperopt>=0.2.7->flair) (0.10.9.7)\n",
      "Requirement already satisfied: future in /usr/local/lib/python3.10/dist-packages (from hyperopt>=0.2.7->flair) (0.18.3)\n",
      "Requirement already satisfied: cloudpickle in /usr/local/lib/python3.10/dist-packages (from hyperopt>=0.2.7->flair) (2.2.1)\n",
      "Requirement already satisfied: cycler>=0.10 in /usr/local/lib/python3.10/dist-packages (from matplotlib>=2.2.3->flair) (0.11.0)\n",
      "Requirement already satisfied: pillow>=6.2.0 in /usr/local/lib/python3.10/dist-packages (from matplotlib>=2.2.3->flair) (8.4.0)\n",
      "Requirement already satisfied: fonttools>=4.22.0 in /usr/local/lib/python3.10/dist-packages (from matplotlib>=2.2.3->flair) (4.39.3)\n",
      "Requirement already satisfied: contourpy>=1.0.1 in /usr/local/lib/python3.10/dist-packages (from matplotlib>=2.2.3->flair) (1.0.7)\n",
      "Requirement already satisfied: pyparsing>=2.3.1 in /usr/local/lib/python3.10/dist-packages (from matplotlib>=2.2.3->flair) (3.0.9)\n",
      "Requirement already satisfied: kiwisolver>=1.0.1 in /usr/local/lib/python3.10/dist-packages (from matplotlib>=2.2.3->flair) (1.4.4)\n",
      "Requirement already satisfied: joblib>=1.1.1 in /usr/local/lib/python3.10/dist-packages (from scikit-learn>=0.21.3->flair) (1.2.0)\n",
      "Requirement already satisfied: threadpoolctl>=2.0.0 in /usr/local/lib/python3.10/dist-packages (from scikit-learn>=0.21.3->flair) (3.1.0)\n",
      "Requirement already satisfied: sympy in /usr/local/lib/python3.10/dist-packages (from torch!=1.8,>=1.5.0->flair) (1.11.1)\n",
      "Requirement already satisfied: jinja2 in /usr/local/lib/python3.10/dist-packages (from torch!=1.8,>=1.5.0->flair) (3.1.2)\n",
      "Requirement already satisfied: triton==2.0.0 in /usr/local/lib/python3.10/dist-packages (from torch!=1.8,>=1.5.0->flair) (2.0.0)\n",
      "Requirement already satisfied: lit in /usr/local/lib/python3.10/dist-packages (from triton==2.0.0->torch!=1.8,>=1.5.0->flair) (16.0.2)\n",
      "Requirement already satisfied: cmake in /usr/local/lib/python3.10/dist-packages (from triton==2.0.0->torch!=1.8,>=1.5.0->flair) (3.25.2)\n",
      "Requirement already satisfied: datasets<3.0.0,>=2.0.0 in /usr/local/lib/python3.10/dist-packages (from transformer-smaller-training-vocab>=0.2.1->flair) (2.12.0)\n",
      "Requirement already satisfied: tokenizers!=0.11.3,<0.14,>=0.11.1 in /usr/local/lib/python3.10/dist-packages (from transformers[sentencepiece]>=4.18.0->flair) (0.13.3)\n",
      "Requirement already satisfied: protobuf<=3.20.2 in /usr/local/lib/python3.10/dist-packages (from transformers[sentencepiece]>=4.18.0->flair) (3.20.2)\n",
      "Requirement already satisfied: s3transfer<0.7.0,>=0.6.0 in /usr/local/lib/python3.10/dist-packages (from boto3->flair) (0.6.0)\n",
      "Requirement already satisfied: botocore<1.30.0,>=1.29.126 in /usr/local/lib/python3.10/dist-packages (from boto3->flair) (1.29.126)\n",
      "Requirement already satisfied: jmespath<2.0.0,>=0.7.1 in /usr/local/lib/python3.10/dist-packages (from boto3->flair) (1.0.1)\n",
      "Requirement already satisfied: wcwidth>=0.2.5 in /usr/local/lib/python3.10/dist-packages (from ftfy->flair) (0.2.6)\n",
      "Requirement already satisfied: urllib3<1.27,>=1.25.4 in /usr/local/lib/python3.10/dist-packages (from botocore<1.30.0,>=1.29.126->boto3->flair) (1.26.15)\n",
      "Requirement already satisfied: dill<0.3.7,>=0.3.0 in /usr/local/lib/python3.10/dist-packages (from datasets<3.0.0,>=2.0.0->transformer-smaller-training-vocab>=0.2.1->flair) (0.3.6)\n",
      "Requirement already satisfied: pandas in /usr/local/lib/python3.10/dist-packages (from datasets<3.0.0,>=2.0.0->transformer-smaller-training-vocab>=0.2.1->flair) (1.5.3)\n",
      "Requirement already satisfied: multiprocess in /usr/local/lib/python3.10/dist-packages (from datasets<3.0.0,>=2.0.0->transformer-smaller-training-vocab>=0.2.1->flair) (0.70.14)\n",
      "Requirement already satisfied: responses<0.19 in /usr/local/lib/python3.10/dist-packages (from datasets<3.0.0,>=2.0.0->transformer-smaller-training-vocab>=0.2.1->flair) (0.18.0)\n",
      "Requirement already satisfied: xxhash in /usr/local/lib/python3.10/dist-packages (from datasets<3.0.0,>=2.0.0->transformer-smaller-training-vocab>=0.2.1->flair) (3.2.0)\n",
      "Requirement already satisfied: pyarrow>=8.0.0 in /usr/local/lib/python3.10/dist-packages (from datasets<3.0.0,>=2.0.0->transformer-smaller-training-vocab>=0.2.1->flair) (9.0.0)\n",
      "Requirement already satisfied: aiohttp in /usr/local/lib/python3.10/dist-packages (from datasets<3.0.0,>=2.0.0->transformer-smaller-training-vocab>=0.2.1->flair) (3.8.4)\n",
      "Requirement already satisfied: idna<4,>=2.5 in /usr/local/lib/python3.10/dist-packages (from requests[socks]->gdown==4.4.0->flair) (3.4)\n",
      "Requirement already satisfied: certifi>=2017.4.17 in /usr/local/lib/python3.10/dist-packages (from requests[socks]->gdown==4.4.0->flair) (2022.12.7)\n",
      "Requirement already satisfied: charset-normalizer~=2.0.0 in /usr/local/lib/python3.10/dist-packages (from requests[socks]->gdown==4.4.0->flair) (2.0.12)\n",
      "Requirement already satisfied: soupsieve>1.2 in /usr/local/lib/python3.10/dist-packages (from beautifulsoup4->gdown==4.4.0->flair) (2.4.1)\n",
      "Requirement already satisfied: MarkupSafe>=2.0 in /usr/local/lib/python3.10/dist-packages (from jinja2->torch!=1.8,>=1.5.0->flair) (2.1.2)\n",
      "Requirement already satisfied: PySocks!=1.5.7,>=1.5.6 in /usr/local/lib/python3.10/dist-packages (from requests[socks]->gdown==4.4.0->flair) (1.7.1)\n",
      "Requirement already satisfied: mpmath>=0.19 in /usr/local/lib/python3.10/dist-packages (from sympy->torch!=1.8,>=1.5.0->flair) (1.3.0)\n",
      "Requirement already satisfied: async-timeout<5.0,>=4.0.0a3 in /usr/local/lib/python3.10/dist-packages (from aiohttp->datasets<3.0.0,>=2.0.0->transformer-smaller-training-vocab>=0.2.1->flair) (4.0.2)\n",
      "Requirement already satisfied: attrs>=17.3.0 in /usr/local/lib/python3.10/dist-packages (from aiohttp->datasets<3.0.0,>=2.0.0->transformer-smaller-training-vocab>=0.2.1->flair) (23.1.0)\n",
      "Requirement already satisfied: frozenlist>=1.1.1 in /usr/local/lib/python3.10/dist-packages (from aiohttp->datasets<3.0.0,>=2.0.0->transformer-smaller-training-vocab>=0.2.1->flair) (1.3.3)\n",
      "Requirement already satisfied: aiosignal>=1.1.2 in /usr/local/lib/python3.10/dist-packages (from aiohttp->datasets<3.0.0,>=2.0.0->transformer-smaller-training-vocab>=0.2.1->flair) (1.3.1)\n",
      "Requirement already satisfied: yarl<2.0,>=1.0 in /usr/local/lib/python3.10/dist-packages (from aiohttp->datasets<3.0.0,>=2.0.0->transformer-smaller-training-vocab>=0.2.1->flair) (1.9.2)\n",
      "Requirement already satisfied: multidict<7.0,>=4.5 in /usr/local/lib/python3.10/dist-packages (from aiohttp->datasets<3.0.0,>=2.0.0->transformer-smaller-training-vocab>=0.2.1->flair) (6.0.4)\n",
      "Requirement already satisfied: pytz>=2020.1 in /usr/local/lib/python3.10/dist-packages (from pandas->datasets<3.0.0,>=2.0.0->transformer-smaller-training-vocab>=0.2.1->flair) (2022.7.1)\n"
     ]
    }
   ],
   "source": [
    "!pip install flair"
   ]
  },
  {
   "cell_type": "code",
   "execution_count": 6,
   "metadata": {
    "colab": {
     "base_uri": "https://localhost:8080/"
    },
    "executionInfo": {
     "elapsed": 10258,
     "status": "ok",
     "timestamp": 1683195596225,
     "user": {
      "displayName": "Ahmad Farisul Haq",
      "userId": "07167143471873573412"
     },
     "user_tz": -420
    },
    "id": "Byjn8iEai1gu",
    "outputId": "3a873b24-71e1-4c47-c120-d42296fb6265"
   },
   "outputs": [
    {
     "name": "stdout",
     "output_type": "stream",
     "text": [
      "2023-05-04 10:19:46,061 https://raw.githubusercontent.com/UniversalDependencies/UD_Indonesian-GSD/master/id_gsd-ud-dev.conllu not found in cache, downloading to /tmp/tmp745m9ft_\n"
     ]
    },
    {
     "name": "stderr",
     "output_type": "stream",
     "text": [
      "970kB [00:00, 40.4MB/s]                   "
     ]
    },
    {
     "name": "stdout",
     "output_type": "stream",
     "text": [
      "2023-05-04 10:19:46,132 copying /tmp/tmp745m9ft_ to cache at /root/.flair/datasets/ud_indonesian/id_gsd-ud-dev.conllu\n",
      "2023-05-04 10:19:46,136 removing temp file /tmp/tmp745m9ft_\n"
     ]
    },
    {
     "name": "stderr",
     "output_type": "stream",
     "text": [
      "\n"
     ]
    },
    {
     "name": "stdout",
     "output_type": "stream",
     "text": [
      "2023-05-04 10:19:46,390 https://raw.githubusercontent.com/UniversalDependencies/UD_Indonesian-GSD/master/id_gsd-ud-test.conllu not found in cache, downloading to /tmp/tmp2mv73u_2\n"
     ]
    },
    {
     "name": "stderr",
     "output_type": "stream",
     "text": [
      "903kB [00:00, 37.7MB/s]                   "
     ]
    },
    {
     "name": "stdout",
     "output_type": "stream",
     "text": [
      "2023-05-04 10:19:46,462 copying /tmp/tmp2mv73u_2 to cache at /root/.flair/datasets/ud_indonesian/id_gsd-ud-test.conllu\n",
      "2023-05-04 10:19:46,466 removing temp file /tmp/tmp2mv73u_2\n"
     ]
    },
    {
     "name": "stderr",
     "output_type": "stream",
     "text": [
      "\n"
     ]
    },
    {
     "name": "stdout",
     "output_type": "stream",
     "text": [
      "2023-05-04 10:19:47,115 https://raw.githubusercontent.com/UniversalDependencies/UD_Indonesian-GSD/master/id_gsd-ud-train.conllu not found in cache, downloading to /tmp/tmpp43msm7n\n"
     ]
    },
    {
     "name": "stderr",
     "output_type": "stream",
     "text": [
      "7.32MB [00:00, 95.7MB/s]                   "
     ]
    },
    {
     "name": "stdout",
     "output_type": "stream",
     "text": [
      "2023-05-04 10:19:47,240 copying /tmp/tmpp43msm7n to cache at /root/.flair/datasets/ud_indonesian/id_gsd-ud-train.conllu\n",
      "2023-05-04 10:19:47,251 removing temp file /tmp/tmpp43msm7n\n",
      "2023-05-04 10:19:47,254 Reading data from /root/.flair/datasets/ud_indonesian\n",
      "2023-05-04 10:19:47,257 Train: /root/.flair/datasets/ud_indonesian/id_gsd-ud-train.conllu\n",
      "2023-05-04 10:19:47,259 Dev: /root/.flair/datasets/ud_indonesian/id_gsd-ud-dev.conllu\n",
      "2023-05-04 10:19:47,262 Test: /root/.flair/datasets/ud_indonesian/id_gsd-ud-test.conllu\n"
     ]
    },
    {
     "name": "stderr",
     "output_type": "stream",
     "text": [
      "\n"
     ]
    },
    {
     "name": "stdout",
     "output_type": "stream",
     "text": [
      "2023-05-04 10:19:54,218 Warning: An empty Sentence was created! Are there empty strings in your dataset?\n",
      "2023-05-04 10:19:54,518 Warning: An empty Sentence was created! Are there empty strings in your dataset?\n",
      "2023-05-04 10:19:55,661 Warning: An empty Sentence was created! Are there empty strings in your dataset?\n"
     ]
    }
   ],
   "source": [
    "# from flair.data_fetcher import NLPTaskDataFetcher, NLPTask\n",
    "import flair.datasets\n",
    "corpus = flair.datasets.UD_INDONESIAN()\n",
    "from flair.embeddings import TokenEmbeddings, WordEmbeddings, StackedEmbeddings, BertEmbeddings\n",
    "from typing import List"
   ]
  },
  {
   "cell_type": "code",
   "execution_count": 7,
   "metadata": {
    "colab": {
     "base_uri": "https://localhost:8080/"
    },
    "executionInfo": {
     "elapsed": 425826,
     "status": "ok",
     "timestamp": 1683196043067,
     "user": {
      "displayName": "Ahmad Farisul Haq",
      "userId": "07167143471873573412"
     },
     "user_tz": -420
    },
    "id": "-N8O7y3ezxH2",
    "outputId": "84ac7477-065e-411e-b3f5-9300de327011"
   },
   "outputs": [
    {
     "name": "stderr",
     "output_type": "stream",
     "text": [
      "<ipython-input-7-c47cf1ac8aa8>:8: DeprecationWarning: Call to deprecated method make_tag_dictionary. (Use 'make_label_dictionary' instead.) -- Deprecated since version 0.8.\n",
      "  tag_dictionary = corpus.make_tag_dictionary(tag_type=tag_type)\n"
     ]
    },
    {
     "name": "stdout",
     "output_type": "stream",
     "text": [
      "[b'O', b'PROPN', b'AUX', b'DET', b'NOUN', b'PRON', b'VERB', b'ADP', b'PUNCT', b'ADV', b'CCONJ', b'SCONJ', b'NUM', b'ADJ', b'PART', b'SYM', b'INTJ', b'X', b'<START>', b'<STOP>']\n",
      "2023-05-04 10:20:19,031 https://flair.informatik.hu-berlin.de/resources/embeddings/token/id-crawl-fasttext-300d-1M.vectors.npy not found in cache, downloading to /tmp/tmpb8r6kyml\n"
     ]
    },
    {
     "name": "stderr",
     "output_type": "stream",
     "text": [
      "100%|██████████| 1.12G/1.12G [01:06<00:00, 18.2MB/s]"
     ]
    },
    {
     "name": "stdout",
     "output_type": "stream",
     "text": [
      "2023-05-04 10:21:25,611 copying /tmp/tmpb8r6kyml to cache at /root/.flair/embeddings/id-crawl-fasttext-300d-1M.vectors.npy\n"
     ]
    },
    {
     "name": "stderr",
     "output_type": "stream",
     "text": [
      "\n"
     ]
    },
    {
     "name": "stdout",
     "output_type": "stream",
     "text": [
      "2023-05-04 10:21:29,984 removing temp file /tmp/tmpb8r6kyml\n",
      "2023-05-04 10:21:30,945 https://flair.informatik.hu-berlin.de/resources/embeddings/token/id-crawl-fasttext-300d-1M not found in cache, downloading to /tmp/tmpmiedfr8a\n"
     ]
    },
    {
     "name": "stderr",
     "output_type": "stream",
     "text": [
      "100%|██████████| 37.8M/37.8M [00:03<00:00, 12.5MB/s]"
     ]
    },
    {
     "name": "stdout",
     "output_type": "stream",
     "text": [
      "2023-05-04 10:21:34,604 copying /tmp/tmpmiedfr8a to cache at /root/.flair/embeddings/id-crawl-fasttext-300d-1M\n"
     ]
    },
    {
     "name": "stderr",
     "output_type": "stream",
     "text": [
      "\n"
     ]
    },
    {
     "name": "stdout",
     "output_type": "stream",
     "text": [
      "2023-05-04 10:21:34,636 removing temp file /tmp/tmpmiedfr8a\n",
      "2023-05-04 10:21:47,972 https://flair.informatik.hu-berlin.de/resources/embeddings/token/id-wiki-fasttext-300d-1M.vectors.npy not found in cache, downloading to /tmp/tmpgjhtfbpk\n"
     ]
    },
    {
     "name": "stderr",
     "output_type": "stream",
     "text": [
      "100%|██████████| 344M/344M [00:20<00:00, 17.7MB/s]"
     ]
    },
    {
     "name": "stdout",
     "output_type": "stream",
     "text": [
      "2023-05-04 10:22:08,905 copying /tmp/tmpgjhtfbpk to cache at /root/.flair/embeddings/id-wiki-fasttext-300d-1M.vectors.npy\n"
     ]
    },
    {
     "name": "stderr",
     "output_type": "stream",
     "text": [
      "\n"
     ]
    },
    {
     "name": "stdout",
     "output_type": "stream",
     "text": [
      "2023-05-04 10:22:10,086 removing temp file /tmp/tmpgjhtfbpk\n",
      "2023-05-04 10:22:10,967 https://flair.informatik.hu-berlin.de/resources/embeddings/token/id-wiki-fasttext-300d-1M not found in cache, downloading to /tmp/tmpz13kw_z5\n"
     ]
    },
    {
     "name": "stderr",
     "output_type": "stream",
     "text": [
      "100%|██████████| 11.1M/11.1M [00:01<00:00, 7.39MB/s]"
     ]
    },
    {
     "name": "stdout",
     "output_type": "stream",
     "text": [
      "2023-05-04 10:22:13,039 copying /tmp/tmpz13kw_z5 to cache at /root/.flair/embeddings/id-wiki-fasttext-300d-1M\n",
      "2023-05-04 10:22:13,051 removing temp file /tmp/tmpz13kw_z5\n"
     ]
    },
    {
     "name": "stderr",
     "output_type": "stream",
     "text": [
      "\n"
     ]
    },
    {
     "name": "stdout",
     "output_type": "stream",
     "text": [
      "2023-05-04 10:22:15,532 SequenceTagger predicts: Dictionary with 20 tags: O, PROPN, AUX, DET, NOUN, PRON, VERB, ADP, PUNCT, ADV, CCONJ, SCONJ, NUM, ADJ, PART, SYM, INTJ, X, <START>, <STOP>\n",
      "2023-05-04 10:22:26,579 ----------------------------------------------------------------------------------------------------\n",
      "2023-05-04 10:22:26,580 Model: \"SequenceTagger(\n",
      "  (embeddings): StackedEmbeddings(\n",
      "    (list_embedding_0): WordEmbeddings(\n",
      "      'id-crawl'\n",
      "      (embedding): Embedding(1000000, 300)\n",
      "    )\n",
      "    (list_embedding_1): WordEmbeddings(\n",
      "      'id'\n",
      "      (embedding): Embedding(300686, 300)\n",
      "    )\n",
      "  )\n",
      "  (word_dropout): WordDropout(p=0.05)\n",
      "  (locked_dropout): LockedDropout(p=0.5)\n",
      "  (embedding2nn): Linear(in_features=600, out_features=600, bias=True)\n",
      "  (rnn): LSTM(600, 256, batch_first=True, bidirectional=True)\n",
      "  (linear): Linear(in_features=512, out_features=20, bias=True)\n",
      "  (loss_function): ViterbiLoss()\n",
      "  (crf): CRF()\n",
      ")\"\n",
      "2023-05-04 10:22:26,583 ----------------------------------------------------------------------------------------------------\n",
      "2023-05-04 10:22:26,589 Corpus: \"Corpus: 4482 train + 559 dev + 557 test sentences\"\n",
      "2023-05-04 10:22:26,590 ----------------------------------------------------------------------------------------------------\n",
      "2023-05-04 10:22:26,591 Parameters:\n",
      "2023-05-04 10:22:26,592  - learning_rate: \"0.100000\"\n",
      "2023-05-04 10:22:26,594  - mini_batch_size: \"32\"\n",
      "2023-05-04 10:22:26,595  - patience: \"3\"\n",
      "2023-05-04 10:22:26,596  - anneal_factor: \"0.5\"\n",
      "2023-05-04 10:22:26,597  - max_epochs: \"10\"\n",
      "2023-05-04 10:22:26,605  - shuffle: \"True\"\n",
      "2023-05-04 10:22:26,606  - train_with_dev: \"False\"\n",
      "2023-05-04 10:22:26,608  - batch_growth_annealing: \"False\"\n",
      "2023-05-04 10:22:26,609 ----------------------------------------------------------------------------------------------------\n",
      "2023-05-04 10:22:26,611 Model training base path: \"resources/taggers/example-universal-pos\"\n",
      "2023-05-04 10:22:26,612 ----------------------------------------------------------------------------------------------------\n",
      "2023-05-04 10:22:26,614 Device: cuda:0\n",
      "2023-05-04 10:22:26,616 ----------------------------------------------------------------------------------------------------\n",
      "2023-05-04 10:22:26,617 Embeddings storage mode: cpu\n",
      "2023-05-04 10:22:26,622 ----------------------------------------------------------------------------------------------------\n",
      "2023-05-04 10:22:29,420 epoch 1 - iter 14/141 - loss 2.67147088 - time (sec): 2.80 - samples/sec: 3451.98 - lr: 0.100000\n",
      "2023-05-04 10:22:31,039 epoch 1 - iter 28/141 - loss 2.34514706 - time (sec): 4.42 - samples/sec: 4362.82 - lr: 0.100000\n",
      "2023-05-04 10:22:32,540 epoch 1 - iter 42/141 - loss 2.13297633 - time (sec): 5.92 - samples/sec: 4859.53 - lr: 0.100000\n",
      "2023-05-04 10:22:34,750 epoch 1 - iter 56/141 - loss 1.96438850 - time (sec): 8.13 - samples/sec: 4746.02 - lr: 0.100000\n",
      "2023-05-04 10:22:37,355 epoch 1 - iter 70/141 - loss 1.82802842 - time (sec): 10.73 - samples/sec: 4527.71 - lr: 0.100000\n",
      "2023-05-04 10:22:39,101 epoch 1 - iter 84/141 - loss 1.72164932 - time (sec): 12.48 - samples/sec: 4679.72 - lr: 0.100000\n",
      "2023-05-04 10:22:40,981 epoch 1 - iter 98/141 - loss 1.62384019 - time (sec): 14.36 - samples/sec: 4778.23 - lr: 0.100000\n",
      "2023-05-04 10:22:42,721 epoch 1 - iter 112/141 - loss 1.54456678 - time (sec): 16.10 - samples/sec: 4858.91 - lr: 0.100000\n",
      "2023-05-04 10:22:44,538 epoch 1 - iter 126/141 - loss 1.47138636 - time (sec): 17.92 - samples/sec: 4928.82 - lr: 0.100000\n",
      "2023-05-04 10:22:46,138 epoch 1 - iter 140/141 - loss 1.40995257 - time (sec): 19.51 - samples/sec: 5000.67 - lr: 0.100000\n",
      "2023-05-04 10:22:46,156 ----------------------------------------------------------------------------------------------------\n",
      "2023-05-04 10:22:46,160 EPOCH 1 done: loss 1.4099 - lr 0.100000\n"
     ]
    },
    {
     "name": "stderr",
     "output_type": "stream",
     "text": [
      "100%|██████████| 18/18 [00:04<00:00,  4.28it/s]"
     ]
    },
    {
     "name": "stdout",
     "output_type": "stream",
     "text": [
      "2023-05-04 10:22:50,414 Evaluating as a multi-label problem: False\n"
     ]
    },
    {
     "name": "stderr",
     "output_type": "stream",
     "text": [
      "\n"
     ]
    },
    {
     "name": "stdout",
     "output_type": "stream",
     "text": [
      "2023-05-04 10:22:50,569 DEV : loss 0.5738444924354553 - f1-score (micro avg)  0.8239\n",
      "2023-05-04 10:22:50,645 BAD EPOCHS (no improvement): 0\n",
      "2023-05-04 10:22:50,647 saving best model\n",
      "2023-05-04 10:22:58,620 ----------------------------------------------------------------------------------------------------\n",
      "2023-05-04 10:23:00,032 epoch 2 - iter 14/141 - loss 0.78065223 - time (sec): 1.35 - samples/sec: 6987.34 - lr: 0.100000\n",
      "2023-05-04 10:23:01,531 epoch 2 - iter 28/141 - loss 0.75095473 - time (sec): 2.85 - samples/sec: 6875.39 - lr: 0.100000\n",
      "2023-05-04 10:23:04,105 epoch 2 - iter 42/141 - loss 0.73541443 - time (sec): 5.42 - samples/sec: 5517.23 - lr: 0.100000\n",
      "2023-05-04 10:23:05,972 epoch 2 - iter 56/141 - loss 0.72695794 - time (sec): 7.29 - samples/sec: 5396.88 - lr: 0.100000\n",
      "2023-05-04 10:23:07,532 epoch 2 - iter 70/141 - loss 0.71183600 - time (sec): 8.85 - samples/sec: 5578.06 - lr: 0.100000\n",
      "2023-05-04 10:23:09,008 epoch 2 - iter 84/141 - loss 0.70265643 - time (sec): 10.33 - samples/sec: 5711.69 - lr: 0.100000\n",
      "2023-05-04 10:23:10,479 epoch 2 - iter 98/141 - loss 0.69363232 - time (sec): 11.80 - samples/sec: 5832.61 - lr: 0.100000\n",
      "2023-05-04 10:23:11,792 epoch 2 - iter 112/141 - loss 0.68133382 - time (sec): 13.11 - samples/sec: 5928.69 - lr: 0.100000\n",
      "2023-05-04 10:23:13,342 epoch 2 - iter 126/141 - loss 0.67113938 - time (sec): 14.66 - samples/sec: 5992.06 - lr: 0.100000\n",
      "2023-05-04 10:23:14,722 epoch 2 - iter 140/141 - loss 0.66264896 - time (sec): 16.04 - samples/sec: 6083.09 - lr: 0.100000\n",
      "2023-05-04 10:23:14,741 ----------------------------------------------------------------------------------------------------\n",
      "2023-05-04 10:23:14,742 EPOCH 2 done: loss 0.6626 - lr 0.100000\n"
     ]
    },
    {
     "name": "stderr",
     "output_type": "stream",
     "text": [
      "100%|██████████| 18/18 [00:05<00:00,  3.28it/s]\n"
     ]
    },
    {
     "name": "stdout",
     "output_type": "stream",
     "text": [
      "2023-05-04 10:23:20,263 Evaluating as a multi-label problem: False\n",
      "2023-05-04 10:23:20,356 DEV : loss 0.36244091391563416 - f1-score (micro avg)  0.8815\n",
      "2023-05-04 10:23:20,405 BAD EPOCHS (no improvement): 0\n",
      "2023-05-04 10:23:20,407 saving best model\n",
      "2023-05-04 10:23:28,176 ----------------------------------------------------------------------------------------------------\n",
      "2023-05-04 10:23:29,849 epoch 3 - iter 14/141 - loss 0.54682129 - time (sec): 1.56 - samples/sec: 6482.54 - lr: 0.100000\n",
      "2023-05-04 10:23:32,301 epoch 3 - iter 28/141 - loss 0.55517905 - time (sec): 4.02 - samples/sec: 4978.01 - lr: 0.100000\n",
      "2023-05-04 10:23:34,312 epoch 3 - iter 42/141 - loss 0.55261867 - time (sec): 6.03 - samples/sec: 4873.97 - lr: 0.100000\n",
      "2023-05-04 10:23:35,931 epoch 3 - iter 56/141 - loss 0.54335518 - time (sec): 7.65 - samples/sec: 5176.52 - lr: 0.100000\n",
      "2023-05-04 10:23:37,442 epoch 3 - iter 70/141 - loss 0.53911004 - time (sec): 9.16 - samples/sec: 5407.06 - lr: 0.100000\n",
      "2023-05-04 10:23:38,889 epoch 3 - iter 84/141 - loss 0.53727060 - time (sec): 10.60 - samples/sec: 5594.04 - lr: 0.100000\n",
      "2023-05-04 10:23:40,354 epoch 3 - iter 98/141 - loss 0.53262699 - time (sec): 12.07 - samples/sec: 5705.04 - lr: 0.100000\n",
      "2023-05-04 10:23:41,846 epoch 3 - iter 112/141 - loss 0.52777578 - time (sec): 13.56 - samples/sec: 5809.15 - lr: 0.100000\n",
      "2023-05-04 10:23:43,207 epoch 3 - iter 126/141 - loss 0.52365107 - time (sec): 14.92 - samples/sec: 5910.82 - lr: 0.100000\n",
      "2023-05-04 10:23:44,814 epoch 3 - iter 140/141 - loss 0.52173093 - time (sec): 16.53 - samples/sec: 5902.86 - lr: 0.100000\n",
      "2023-05-04 10:23:44,852 ----------------------------------------------------------------------------------------------------\n",
      "2023-05-04 10:23:44,854 EPOCH 3 done: loss 0.5219 - lr 0.100000\n"
     ]
    },
    {
     "name": "stderr",
     "output_type": "stream",
     "text": [
      "100%|██████████| 18/18 [00:04<00:00,  4.40it/s]"
     ]
    },
    {
     "name": "stdout",
     "output_type": "stream",
     "text": [
      "2023-05-04 10:23:48,975 Evaluating as a multi-label problem: False\n",
      "2023-05-04 10:23:49,068 DEV : loss 0.30747976899147034 - f1-score (micro avg)  0.901\n"
     ]
    },
    {
     "name": "stderr",
     "output_type": "stream",
     "text": [
      "\n"
     ]
    },
    {
     "name": "stdout",
     "output_type": "stream",
     "text": [
      "2023-05-04 10:23:49,118 BAD EPOCHS (no improvement): 0\n",
      "2023-05-04 10:23:49,122 saving best model\n",
      "2023-05-04 10:23:56,949 ----------------------------------------------------------------------------------------------------\n",
      "2023-05-04 10:23:58,466 epoch 4 - iter 14/141 - loss 0.47433414 - time (sec): 1.43 - samples/sec: 6803.88 - lr: 0.100000\n",
      "2023-05-04 10:24:00,846 epoch 4 - iter 28/141 - loss 0.47961631 - time (sec): 3.81 - samples/sec: 5042.48 - lr: 0.100000\n",
      "2023-05-04 10:24:02,922 epoch 4 - iter 42/141 - loss 0.47769829 - time (sec): 5.89 - samples/sec: 4925.98 - lr: 0.100000\n",
      "2023-05-04 10:24:04,353 epoch 4 - iter 56/141 - loss 0.48303905 - time (sec): 7.32 - samples/sec: 5296.46 - lr: 0.100000\n",
      "2023-05-04 10:24:05,886 epoch 4 - iter 70/141 - loss 0.48391414 - time (sec): 8.85 - samples/sec: 5509.34 - lr: 0.100000\n",
      "2023-05-04 10:24:07,243 epoch 4 - iter 84/141 - loss 0.48237184 - time (sec): 10.21 - samples/sec: 5713.88 - lr: 0.100000\n",
      "2023-05-04 10:24:08,852 epoch 4 - iter 98/141 - loss 0.48138637 - time (sec): 11.82 - samples/sec: 5759.30 - lr: 0.100000\n",
      "2023-05-04 10:24:10,235 epoch 4 - iter 112/141 - loss 0.47724771 - time (sec): 13.20 - samples/sec: 5891.45 - lr: 0.100000\n",
      "2023-05-04 10:24:11,651 epoch 4 - iter 126/141 - loss 0.47562999 - time (sec): 14.62 - samples/sec: 6002.91 - lr: 0.100000\n",
      "2023-05-04 10:24:13,332 epoch 4 - iter 140/141 - loss 0.47405914 - time (sec): 16.30 - samples/sec: 5985.07 - lr: 0.100000\n",
      "2023-05-04 10:24:13,366 ----------------------------------------------------------------------------------------------------\n",
      "2023-05-04 10:24:13,368 EPOCH 4 done: loss 0.4740 - lr 0.100000\n"
     ]
    },
    {
     "name": "stderr",
     "output_type": "stream",
     "text": [
      "100%|██████████| 18/18 [00:03<00:00,  4.51it/s]\n"
     ]
    },
    {
     "name": "stdout",
     "output_type": "stream",
     "text": [
      "2023-05-04 10:24:17,398 Evaluating as a multi-label problem: False\n",
      "2023-05-04 10:24:17,495 DEV : loss 0.2928721010684967 - f1-score (micro avg)  0.9062\n",
      "2023-05-04 10:24:17,540 BAD EPOCHS (no improvement): 0\n",
      "2023-05-04 10:24:17,542 saving best model\n",
      "2023-05-04 10:24:25,317 ----------------------------------------------------------------------------------------------------\n",
      "2023-05-04 10:24:27,236 epoch 5 - iter 14/141 - loss 0.45902289 - time (sec): 1.85 - samples/sec: 5447.03 - lr: 0.100000\n",
      "2023-05-04 10:24:29,602 epoch 5 - iter 28/141 - loss 0.46623564 - time (sec): 4.22 - samples/sec: 4808.06 - lr: 0.100000\n",
      "2023-05-04 10:24:31,378 epoch 5 - iter 42/141 - loss 0.46116162 - time (sec): 5.99 - samples/sec: 5003.52 - lr: 0.100000\n",
      "2023-05-04 10:24:32,827 epoch 5 - iter 56/141 - loss 0.45361247 - time (sec): 7.44 - samples/sec: 5353.62 - lr: 0.100000\n",
      "2023-05-04 10:24:34,323 epoch 5 - iter 70/141 - loss 0.45470419 - time (sec): 8.94 - samples/sec: 5531.43 - lr: 0.100000\n",
      "2023-05-04 10:24:35,764 epoch 5 - iter 84/141 - loss 0.45114768 - time (sec): 10.38 - samples/sec: 5686.65 - lr: 0.100000\n",
      "2023-05-04 10:24:37,244 epoch 5 - iter 98/141 - loss 0.44775484 - time (sec): 11.86 - samples/sec: 5799.77 - lr: 0.100000\n",
      "2023-05-04 10:24:38,608 epoch 5 - iter 112/141 - loss 0.44732417 - time (sec): 13.22 - samples/sec: 5939.50 - lr: 0.100000\n",
      "2023-05-04 10:24:39,985 epoch 5 - iter 126/141 - loss 0.44723994 - time (sec): 14.60 - samples/sec: 6034.71 - lr: 0.100000\n",
      "2023-05-04 10:24:41,813 epoch 5 - iter 140/141 - loss 0.44733223 - time (sec): 16.43 - samples/sec: 5939.89 - lr: 0.100000\n",
      "2023-05-04 10:24:41,838 ----------------------------------------------------------------------------------------------------\n",
      "2023-05-04 10:24:41,840 EPOCH 5 done: loss 0.4473 - lr 0.100000\n"
     ]
    },
    {
     "name": "stderr",
     "output_type": "stream",
     "text": [
      "100%|██████████| 18/18 [00:03<00:00,  4.55it/s]\n"
     ]
    },
    {
     "name": "stdout",
     "output_type": "stream",
     "text": [
      "2023-05-04 10:24:45,835 Evaluating as a multi-label problem: False\n",
      "2023-05-04 10:24:45,931 DEV : loss 0.2822073698043823 - f1-score (micro avg)  0.9067\n",
      "2023-05-04 10:24:45,981 BAD EPOCHS (no improvement): 0\n",
      "2023-05-04 10:24:45,983 saving best model\n",
      "2023-05-04 10:24:53,764 ----------------------------------------------------------------------------------------------------\n",
      "2023-05-04 10:24:55,590 epoch 6 - iter 14/141 - loss 0.42462433 - time (sec): 1.78 - samples/sec: 5658.40 - lr: 0.100000\n",
      "2023-05-04 10:24:57,766 epoch 6 - iter 28/141 - loss 0.42511240 - time (sec): 3.95 - samples/sec: 4964.91 - lr: 0.100000\n",
      "2023-05-04 10:24:59,656 epoch 6 - iter 42/141 - loss 0.42553969 - time (sec): 5.84 - samples/sec: 4933.06 - lr: 0.100000\n",
      "2023-05-04 10:25:01,184 epoch 6 - iter 56/141 - loss 0.42752775 - time (sec): 7.37 - samples/sec: 5238.20 - lr: 0.100000\n",
      "2023-05-04 10:25:02,782 epoch 6 - iter 70/141 - loss 0.42871373 - time (sec): 8.97 - samples/sec: 5406.86 - lr: 0.100000\n",
      "2023-05-04 10:25:04,306 epoch 6 - iter 84/141 - loss 0.43013350 - time (sec): 10.49 - samples/sec: 5556.53 - lr: 0.100000\n",
      "2023-05-04 10:25:05,654 epoch 6 - iter 98/141 - loss 0.42883842 - time (sec): 11.84 - samples/sec: 5733.02 - lr: 0.100000\n",
      "2023-05-04 10:25:07,091 epoch 6 - iter 112/141 - loss 0.42799697 - time (sec): 13.28 - samples/sec: 5841.12 - lr: 0.100000\n",
      "2023-05-04 10:25:08,647 epoch 6 - iter 126/141 - loss 0.42797031 - time (sec): 14.83 - samples/sec: 5910.42 - lr: 0.100000\n",
      "2023-05-04 10:25:10,664 epoch 6 - iter 140/141 - loss 0.42761621 - time (sec): 16.85 - samples/sec: 5790.97 - lr: 0.100000\n",
      "2023-05-04 10:25:10,696 ----------------------------------------------------------------------------------------------------\n",
      "2023-05-04 10:25:10,700 EPOCH 6 done: loss 0.4279 - lr 0.100000\n"
     ]
    },
    {
     "name": "stderr",
     "output_type": "stream",
     "text": [
      "100%|██████████| 18/18 [00:03<00:00,  4.66it/s]\n"
     ]
    },
    {
     "name": "stdout",
     "output_type": "stream",
     "text": [
      "2023-05-04 10:25:14,603 Evaluating as a multi-label problem: False\n",
      "2023-05-04 10:25:14,694 DEV : loss 0.2636089026927948 - f1-score (micro avg)  0.9129\n",
      "2023-05-04 10:25:14,741 BAD EPOCHS (no improvement): 0\n",
      "2023-05-04 10:25:14,743 saving best model\n",
      "2023-05-04 10:25:22,519 ----------------------------------------------------------------------------------------------------\n",
      "2023-05-04 10:25:24,352 epoch 7 - iter 14/141 - loss 0.39522668 - time (sec): 1.74 - samples/sec: 5459.36 - lr: 0.100000\n",
      "2023-05-04 10:25:26,503 epoch 7 - iter 28/141 - loss 0.40813106 - time (sec): 3.89 - samples/sec: 4994.38 - lr: 0.100000\n",
      "2023-05-04 10:25:28,453 epoch 7 - iter 42/141 - loss 0.41415028 - time (sec): 5.84 - samples/sec: 5027.05 - lr: 0.100000\n",
      "2023-05-04 10:25:29,764 epoch 7 - iter 56/141 - loss 0.41687625 - time (sec): 7.15 - samples/sec: 5396.34 - lr: 0.100000\n",
      "2023-05-04 10:25:31,316 epoch 7 - iter 70/141 - loss 0.42193667 - time (sec): 8.70 - samples/sec: 5629.15 - lr: 0.100000\n",
      "2023-05-04 10:25:32,845 epoch 7 - iter 84/141 - loss 0.42094668 - time (sec): 10.23 - samples/sec: 5767.22 - lr: 0.100000\n",
      "2023-05-04 10:25:34,289 epoch 7 - iter 98/141 - loss 0.41671798 - time (sec): 11.68 - samples/sec: 5886.08 - lr: 0.100000\n",
      "2023-05-04 10:25:35,685 epoch 7 - iter 112/141 - loss 0.41337851 - time (sec): 13.07 - samples/sec: 6000.42 - lr: 0.100000\n",
      "2023-05-04 10:25:37,224 epoch 7 - iter 126/141 - loss 0.41256449 - time (sec): 14.61 - samples/sec: 6024.07 - lr: 0.100000\n",
      "2023-05-04 10:25:39,109 epoch 7 - iter 140/141 - loss 0.41288270 - time (sec): 16.50 - samples/sec: 5912.17 - lr: 0.100000\n",
      "2023-05-04 10:25:39,171 ----------------------------------------------------------------------------------------------------\n",
      "2023-05-04 10:25:39,173 EPOCH 7 done: loss 0.4129 - lr 0.100000\n"
     ]
    },
    {
     "name": "stderr",
     "output_type": "stream",
     "text": [
      "100%|██████████| 18/18 [00:03<00:00,  4.65it/s]"
     ]
    },
    {
     "name": "stdout",
     "output_type": "stream",
     "text": [
      "2023-05-04 10:25:43,082 Evaluating as a multi-label problem: False\n"
     ]
    },
    {
     "name": "stderr",
     "output_type": "stream",
     "text": [
      "\n"
     ]
    },
    {
     "name": "stdout",
     "output_type": "stream",
     "text": [
      "2023-05-04 10:25:43,178 DEV : loss 0.24714432656764984 - f1-score (micro avg)  0.9182\n",
      "2023-05-04 10:25:43,224 BAD EPOCHS (no improvement): 0\n",
      "2023-05-04 10:25:43,225 saving best model\n",
      "2023-05-04 10:25:51,009 ----------------------------------------------------------------------------------------------------\n",
      "2023-05-04 10:25:52,600 epoch 8 - iter 14/141 - loss 0.39473986 - time (sec): 1.50 - samples/sec: 6062.01 - lr: 0.100000\n",
      "2023-05-04 10:25:54,894 epoch 8 - iter 28/141 - loss 0.38789579 - time (sec): 3.80 - samples/sec: 4986.79 - lr: 0.100000\n",
      "2023-05-04 10:25:56,926 epoch 8 - iter 42/141 - loss 0.39704601 - time (sec): 5.83 - samples/sec: 4999.14 - lr: 0.100000\n",
      "2023-05-04 10:25:58,432 epoch 8 - iter 56/141 - loss 0.39990246 - time (sec): 7.34 - samples/sec: 5243.04 - lr: 0.100000\n",
      "2023-05-04 10:25:59,933 epoch 8 - iter 70/141 - loss 0.40125337 - time (sec): 8.84 - samples/sec: 5469.35 - lr: 0.100000\n",
      "2023-05-04 10:26:01,402 epoch 8 - iter 84/141 - loss 0.40141583 - time (sec): 10.31 - samples/sec: 5642.34 - lr: 0.100000\n",
      "2023-05-04 10:26:03,126 epoch 8 - iter 98/141 - loss 0.40073946 - time (sec): 12.03 - samples/sec: 5695.07 - lr: 0.100000\n",
      "2023-05-04 10:26:04,480 epoch 8 - iter 112/141 - loss 0.39989743 - time (sec): 13.38 - samples/sec: 5813.60 - lr: 0.100000\n",
      "2023-05-04 10:26:05,932 epoch 8 - iter 126/141 - loss 0.39895846 - time (sec): 14.84 - samples/sec: 5904.09 - lr: 0.100000\n",
      "2023-05-04 10:26:07,920 epoch 8 - iter 140/141 - loss 0.39783887 - time (sec): 16.82 - samples/sec: 5796.77 - lr: 0.100000\n",
      "2023-05-04 10:26:07,978 ----------------------------------------------------------------------------------------------------\n",
      "2023-05-04 10:26:07,980 EPOCH 8 done: loss 0.3978 - lr 0.100000\n"
     ]
    },
    {
     "name": "stderr",
     "output_type": "stream",
     "text": [
      "100%|██████████| 18/18 [00:03<00:00,  4.84it/s]\n"
     ]
    },
    {
     "name": "stdout",
     "output_type": "stream",
     "text": [
      "2023-05-04 10:26:11,735 Evaluating as a multi-label problem: False\n",
      "2023-05-04 10:26:11,831 DEV : loss 0.24248601496219635 - f1-score (micro avg)  0.9205\n",
      "2023-05-04 10:26:11,878 BAD EPOCHS (no improvement): 0\n",
      "2023-05-04 10:26:11,881 saving best model\n",
      "2023-05-04 10:26:19,638 ----------------------------------------------------------------------------------------------------\n",
      "2023-05-04 10:26:21,568 epoch 9 - iter 14/141 - loss 0.38556495 - time (sec): 1.84 - samples/sec: 5285.28 - lr: 0.100000\n",
      "2023-05-04 10:26:23,701 epoch 9 - iter 28/141 - loss 0.39187717 - time (sec): 3.97 - samples/sec: 4893.70 - lr: 0.100000\n",
      "2023-05-04 10:26:25,666 epoch 9 - iter 42/141 - loss 0.38753020 - time (sec): 5.94 - samples/sec: 4961.46 - lr: 0.100000\n",
      "2023-05-04 10:26:27,112 epoch 9 - iter 56/141 - loss 0.39262715 - time (sec): 7.38 - samples/sec: 5321.90 - lr: 0.100000\n",
      "2023-05-04 10:26:28,637 epoch 9 - iter 70/141 - loss 0.39057364 - time (sec): 8.91 - samples/sec: 5526.26 - lr: 0.100000\n",
      "2023-05-04 10:26:30,096 epoch 9 - iter 84/141 - loss 0.39113206 - time (sec): 10.37 - samples/sec: 5688.64 - lr: 0.100000\n",
      "2023-05-04 10:26:31,469 epoch 9 - iter 98/141 - loss 0.38988715 - time (sec): 11.74 - samples/sec: 5798.55 - lr: 0.100000\n",
      "2023-05-04 10:26:32,892 epoch 9 - iter 112/141 - loss 0.38868531 - time (sec): 13.16 - samples/sec: 5890.55 - lr: 0.100000\n",
      "2023-05-04 10:26:34,348 epoch 9 - iter 126/141 - loss 0.39019458 - time (sec): 14.62 - samples/sec: 5978.77 - lr: 0.100000\n",
      "2023-05-04 10:26:36,604 epoch 9 - iter 140/141 - loss 0.39041741 - time (sec): 16.87 - samples/sec: 5782.65 - lr: 0.100000\n",
      "2023-05-04 10:26:36,637 ----------------------------------------------------------------------------------------------------\n",
      "2023-05-04 10:26:36,642 EPOCH 9 done: loss 0.3905 - lr 0.100000\n"
     ]
    },
    {
     "name": "stderr",
     "output_type": "stream",
     "text": [
      "100%|██████████| 18/18 [00:03<00:00,  5.01it/s]\n"
     ]
    },
    {
     "name": "stdout",
     "output_type": "stream",
     "text": [
      "2023-05-04 10:26:40,276 Evaluating as a multi-label problem: False\n",
      "2023-05-04 10:26:40,375 DEV : loss 0.25337865948677063 - f1-score (micro avg)  0.9179\n",
      "2023-05-04 10:26:40,421 BAD EPOCHS (no improvement): 1\n",
      "2023-05-04 10:26:40,423 ----------------------------------------------------------------------------------------------------\n",
      "2023-05-04 10:26:41,885 epoch 10 - iter 14/141 - loss 0.36203214 - time (sec): 1.46 - samples/sec: 6578.75 - lr: 0.100000\n",
      "2023-05-04 10:26:43,397 epoch 10 - iter 28/141 - loss 0.37327662 - time (sec): 2.97 - samples/sec: 6585.04 - lr: 0.100000\n",
      "2023-05-04 10:26:44,849 epoch 10 - iter 42/141 - loss 0.37042337 - time (sec): 4.42 - samples/sec: 6620.75 - lr: 0.100000\n",
      "2023-05-04 10:26:46,339 epoch 10 - iter 56/141 - loss 0.36810037 - time (sec): 5.91 - samples/sec: 6605.91 - lr: 0.100000\n",
      "2023-05-04 10:26:47,826 epoch 10 - iter 70/141 - loss 0.37187135 - time (sec): 7.40 - samples/sec: 6550.77 - lr: 0.100000\n",
      "2023-05-04 10:26:49,687 epoch 10 - iter 84/141 - loss 0.37424257 - time (sec): 9.26 - samples/sec: 6332.56 - lr: 0.100000\n",
      "2023-05-04 10:26:51,793 epoch 10 - iter 98/141 - loss 0.37532672 - time (sec): 11.37 - samples/sec: 5999.36 - lr: 0.100000\n",
      "2023-05-04 10:26:53,672 epoch 10 - iter 112/141 - loss 0.37560484 - time (sec): 13.25 - samples/sec: 5893.65 - lr: 0.100000\n",
      "2023-05-04 10:26:55,107 epoch 10 - iter 126/141 - loss 0.37661508 - time (sec): 14.68 - samples/sec: 5973.06 - lr: 0.100000\n",
      "2023-05-04 10:26:56,579 epoch 10 - iter 140/141 - loss 0.37890881 - time (sec): 16.15 - samples/sec: 6039.73 - lr: 0.100000\n",
      "2023-05-04 10:26:56,602 ----------------------------------------------------------------------------------------------------\n",
      "2023-05-04 10:26:56,604 EPOCH 10 done: loss 0.3789 - lr 0.100000\n"
     ]
    },
    {
     "name": "stderr",
     "output_type": "stream",
     "text": [
      "100%|██████████| 18/18 [00:02<00:00,  6.32it/s]"
     ]
    },
    {
     "name": "stdout",
     "output_type": "stream",
     "text": [
      "2023-05-04 10:26:59,488 Evaluating as a multi-label problem: False\n",
      "2023-05-04 10:26:59,579 DEV : loss 0.23481959104537964 - f1-score (micro avg)  0.9201\n"
     ]
    },
    {
     "name": "stderr",
     "output_type": "stream",
     "text": [
      "\n"
     ]
    },
    {
     "name": "stdout",
     "output_type": "stream",
     "text": [
      "2023-05-04 10:26:59,630 BAD EPOCHS (no improvement): 2\n",
      "2023-05-04 10:27:07,311 ----------------------------------------------------------------------------------------------------\n",
      "2023-05-04 10:27:18,576 SequenceTagger predicts: Dictionary with 20 tags: O, PROPN, AUX, DET, NOUN, PRON, VERB, ADP, PUNCT, ADV, CCONJ, SCONJ, NUM, ADJ, PART, SYM, INTJ, X, <START>, <STOP>\n"
     ]
    },
    {
     "name": "stderr",
     "output_type": "stream",
     "text": [
      "100%|██████████| 18/18 [00:02<00:00,  6.72it/s]"
     ]
    },
    {
     "name": "stdout",
     "output_type": "stream",
     "text": [
      "2023-05-04 10:27:22,231 Evaluating as a multi-label problem: False\n"
     ]
    },
    {
     "name": "stderr",
     "output_type": "stream",
     "text": [
      "\n"
     ]
    },
    {
     "name": "stdout",
     "output_type": "stream",
     "text": [
      "2023-05-04 10:27:22,365 0.9259\t0.9259\t0.9259\t0.9259\n",
      "2023-05-04 10:27:22,369 \n",
      "Results:\n",
      "- F-score (micro) 0.9259\n",
      "- F-score (macro) 0.8574\n",
      "- Accuracy 0.9259\n",
      "\n",
      "By class:\n",
      "              precision    recall  f1-score   support\n",
      "\n",
      "        NOUN     0.9043    0.8885    0.8963      2511\n",
      "       PROPN     0.8977    0.9454    0.9209      2162\n",
      "       PUNCT     0.9939    0.9994    0.9966      1623\n",
      "        VERB     0.9530    0.9189    0.9357      1258\n",
      "         ADP     0.9371    0.9497    0.9434      1114\n",
      "        PRON     0.9474    0.9783    0.9626       644\n",
      "         ADJ     0.8637    0.7275    0.7898       488\n",
      "         NUM     0.9735    0.9583    0.9659       384\n",
      "       CCONJ     0.9704    0.9945    0.9823       362\n",
      "         ADV     0.8116    0.8092    0.8104       346\n",
      "         DET     0.9502    0.8944    0.9215       341\n",
      "         AUX     0.9362    0.9607    0.9483       229\n",
      "       SCONJ     0.7933    0.8505    0.8209       194\n",
      "        PART     0.8687    0.9663    0.9149        89\n",
      "         SYM     1.0000    0.8333    0.9091         6\n",
      "           X     0.0000    0.0000    0.0000         5\n",
      "\n",
      "    accuracy                         0.9259     11756\n",
      "   macro avg     0.8626    0.8547    0.8574     11756\n",
      "weighted avg     0.9255    0.9259    0.9252     11756\n",
      "\n",
      "2023-05-04 10:27:22,371 ----------------------------------------------------------------------------------------------------\n"
     ]
    },
    {
     "data": {
      "text/plain": [
       "{'test_score': 0.925910173528411,\n",
       " 'dev_score_history': [0.8239475554853487,\n",
       "  0.8815259458178659,\n",
       "  0.901034673406524,\n",
       "  0.9061685490877498,\n",
       "  0.9067214280072664,\n",
       "  0.9128820788247374,\n",
       "  0.9181739199115394,\n",
       "  0.920464418292394,\n",
       "  0.9179369718031751,\n",
       "  0.9201484874812416],\n",
       " 'train_loss_history': [1.4098652868797925,\n",
       "  0.6625739795033437,\n",
       "  0.5218877323543275,\n",
       "  0.47398452819760434,\n",
       "  0.44726004174213857,\n",
       "  0.42785180992494953,\n",
       "  0.4128630349231605,\n",
       "  0.3978134852223107,\n",
       "  0.39052852124787363,\n",
       "  0.3789217348521451],\n",
       " 'dev_loss_history': [0.5738444924354553,\n",
       "  0.36244091391563416,\n",
       "  0.30747976899147034,\n",
       "  0.2928721010684967,\n",
       "  0.2822073698043823,\n",
       "  0.2636089026927948,\n",
       "  0.24714432656764984,\n",
       "  0.24248601496219635,\n",
       "  0.25337865948677063,\n",
       "  0.23481959104537964]}"
      ]
     },
     "execution_count": 7,
     "metadata": {},
     "output_type": "execute_result"
    }
   ],
   "source": [
    "# 1. get the corpus\n",
    "# corpus = NLPTaskDataFetcher.load_corpus(NLPTask.UD_INDONESIAN)\n",
    "\n",
    "# 2. what tag do we want to predict?\n",
    "tag_type = 'upos'\n",
    "\n",
    "# 3. make the tag dictionary from the corpus\n",
    "tag_dictionary = corpus.make_tag_dictionary(tag_type=tag_type)\n",
    "print(tag_dictionary.idx2item)\n",
    "\n",
    "# 4. initialize embeddings\n",
    "embedding_types: List[TokenEmbeddings] = [\n",
    "    WordEmbeddings('id-crawl'),\n",
    "    WordEmbeddings('id'),\n",
    "    #WordEmbeddings('glove'),\n",
    "    #BertEmbeddings('bert-base-multilingual-cased')\n",
    "]\n",
    "\n",
    "embeddings: StackedEmbeddings = StackedEmbeddings(embeddings=embedding_types)\n",
    "\n",
    "# 5. initialize sequence tagger\n",
    "from flair.models import SequenceTagger\n",
    "tagger: SequenceTagger = SequenceTagger(hidden_size=256,\n",
    "                                        embeddings=embeddings,\n",
    "                                        tag_dictionary=tag_dictionary,\n",
    "                                        tag_type=tag_type,\n",
    "                                        use_crf=True)\n",
    "\n",
    "from flair.trainers import ModelTrainer\n",
    "\n",
    "trainer: ModelTrainer = ModelTrainer(tagger, corpus)\n",
    "\n",
    "# 7. start training\n",
    "trainer.train('resources/taggers/example-universal-pos',\n",
    "              learning_rate=0.1,\n",
    "              mini_batch_size=32,\n",
    "              max_epochs=10)"
   ]
  },
  {
   "cell_type": "code",
   "execution_count": 8,
   "metadata": {
    "colab": {
     "base_uri": "https://localhost:8080/"
    },
    "executionInfo": {
     "elapsed": 11091,
     "status": "ok",
     "timestamp": 1683196101552,
     "user": {
      "displayName": "Ahmad Farisul Haq",
      "userId": "07167143471873573412"
     },
     "user_tz": -420
    },
    "id": "LqvmmuVf7cPs",
    "outputId": "af02e375-e4dc-45a1-a0c0-ac0fa05ff5a8"
   },
   "outputs": [
    {
     "name": "stdout",
     "output_type": "stream",
     "text": [
      "2023-05-04 10:28:20,527 SequenceTagger predicts: Dictionary with 20 tags: O, PROPN, AUX, DET, NOUN, PRON, VERB, ADP, PUNCT, ADV, CCONJ, SCONJ, NUM, ADJ, PART, SYM, INTJ, X, <START>, <STOP>\n",
      "Sentence[11]: \"saya dan dia kemarin pergi ke pasar bersama untuk membeli jeruk\" → [\"saya\"/PRON, \"dan\"/CCONJ, \"dia\"/PRON, \"kemarin\"/ADV, \"pergi\"/VERB, \"ke\"/ADP, \"pasar\"/NOUN, \"bersama\"/ADJ, \"untuk\"/SCONJ, \"membeli\"/VERB, \"jeruk\"/NOUN]\n"
     ]
    }
   ],
   "source": [
    "from flair.data import Sentence\n",
    "\n",
    "sentence = Sentence('saya dan dia kemarin pergi ke pasar bersama untuk membeli jeruk')\n",
    "tag_pos = SequenceTagger.load('resources/taggers/example-universal-pos/best-model.pt')\n",
    "tag_pos.predict(sentence)\n",
    "print(sentence.to_tagged_string())"
   ]
  }
 ],
 "metadata": {
  "accelerator": "GPU",
  "colab": {
   "provenance": []
  },
  "gpuClass": "standard",
  "kernelspec": {
   "display_name": "Python 3",
   "language": "python",
   "name": "python3"
  },
  "language_info": {
   "codemirror_mode": {
    "name": "ipython",
    "version": 3
   },
   "file_extension": ".py",
   "mimetype": "text/x-python",
   "name": "python",
   "nbconvert_exporter": "python",
   "pygments_lexer": "ipython3",
   "version": "3.7.4"
  }
 },
 "nbformat": 4,
 "nbformat_minor": 1
}
