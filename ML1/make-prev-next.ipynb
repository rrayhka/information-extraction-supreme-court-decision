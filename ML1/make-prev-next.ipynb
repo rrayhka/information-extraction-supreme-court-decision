{
 "cells": [
  {
   "cell_type": "code",
   "execution_count": 1,
   "metadata": {},
   "outputs": [],
   "source": [
    "import warnings\n",
    "warnings.filterwarnings('ignore')"
   ]
  },
  {
   "cell_type": "code",
   "execution_count": 2,
   "metadata": {
    "executionInfo": {
     "elapsed": 325,
     "status": "ok",
     "timestamp": 1683734013727,
     "user": {
      "displayName": "Ahmad Farisul Haq",
      "userId": "07167143471873573412"
     },
     "user_tz": -420
    },
    "id": "HgPRwKT3GSS1"
   },
   "outputs": [],
   "source": [
    "import pandas as pd\n",
    "import os"
   ]
  },
  {
   "cell_type": "code",
   "execution_count": 3,
   "metadata": {
    "executionInfo": {
     "elapsed": 18,
     "status": "ok",
     "timestamp": 1683734015302,
     "user": {
      "displayName": "Ahmad Farisul Haq",
      "userId": "07167143471873573412"
     },
     "user_tz": -420
    },
    "id": "N0dg84tuXNrs"
   },
   "outputs": [],
   "source": [
    "# path = '/content/drive/MyDrive/Project/NLP/datasets' \n",
    "path = ''"
   ]
  },
  {
   "cell_type": "code",
   "execution_count": 4,
   "metadata": {
    "colab": {
     "base_uri": "https://localhost:8080/",
     "height": 458
    },
    "executionInfo": {
     "elapsed": 17,
     "status": "ok",
     "timestamp": 1683734015302,
     "user": {
      "displayName": "Ahmad Farisul Haq",
      "userId": "07167143471873573412"
     },
     "user_tz": -420
    },
    "id": "H22jSL4aJ3gM",
    "outputId": "6e8d8618-c134-48d1-8cad-36865b651b39"
   },
   "outputs": [
    {
     "data": {
      "text/html": [
       "<div>\n",
       "<style scoped>\n",
       "    .dataframe tbody tr th:only-of-type {\n",
       "        vertical-align: middle;\n",
       "    }\n",
       "\n",
       "    .dataframe tbody tr th {\n",
       "        vertical-align: top;\n",
       "    }\n",
       "\n",
       "    .dataframe thead th {\n",
       "        text-align: right;\n",
       "    }\n",
       "</style>\n",
       "<table border=\"1\" class=\"dataframe\">\n",
       "  <thead>\n",
       "    <tr style=\"text-align: right;\">\n",
       "      <th></th>\n",
       "      <th>Unnamed: 0</th>\n",
       "      <th>doc</th>\n",
       "      <th>sentence</th>\n",
       "      <th>word</th>\n",
       "      <th>tag</th>\n",
       "      <th>pos</th>\n",
       "    </tr>\n",
       "  </thead>\n",
       "  <tbody>\n",
       "    <tr>\n",
       "      <td>0</td>\n",
       "      <td>0</td>\n",
       "      <td>doc: 13a5421c5a5de3dc125a2fd01278a5bb</td>\n",
       "      <td>sentence: 0000001</td>\n",
       "      <td>PUTUSAN</td>\n",
       "      <td>O</td>\n",
       "      <td>NOUN</td>\n",
       "    </tr>\n",
       "    <tr>\n",
       "      <td>1</td>\n",
       "      <td>1</td>\n",
       "      <td>NaN</td>\n",
       "      <td>NaN</td>\n",
       "      <td>.</td>\n",
       "      <td>O</td>\n",
       "      <td>PUNCT</td>\n",
       "    </tr>\n",
       "    <tr>\n",
       "      <td>2</td>\n",
       "      <td>2</td>\n",
       "      <td>NaN</td>\n",
       "      <td>NaN</td>\n",
       "      <td>NOMOR</td>\n",
       "      <td>O</td>\n",
       "      <td>NOUN</td>\n",
       "    </tr>\n",
       "    <tr>\n",
       "      <td>3</td>\n",
       "      <td>3</td>\n",
       "      <td>NaN</td>\n",
       "      <td>NaN</td>\n",
       "      <td>:</td>\n",
       "      <td>O</td>\n",
       "      <td>PUNCT</td>\n",
       "    </tr>\n",
       "    <tr>\n",
       "      <td>4</td>\n",
       "      <td>4</td>\n",
       "      <td>NaN</td>\n",
       "      <td>NaN</td>\n",
       "      <td>1974</td>\n",
       "      <td>B_putusan</td>\n",
       "      <td>NUM</td>\n",
       "    </tr>\n",
       "    <tr>\n",
       "      <td>...</td>\n",
       "      <td>...</td>\n",
       "      <td>...</td>\n",
       "      <td>...</td>\n",
       "      <td>...</td>\n",
       "      <td>...</td>\n",
       "      <td>...</td>\n",
       "    </tr>\n",
       "    <tr>\n",
       "      <td>1764287</td>\n",
       "      <td>1764287</td>\n",
       "      <td>NaN</td>\n",
       "      <td>NaN</td>\n",
       "      <td>Terdakwa</td>\n",
       "      <td>O</td>\n",
       "      <td>NOUN</td>\n",
       "    </tr>\n",
       "    <tr>\n",
       "      <td>1764288</td>\n",
       "      <td>1764288</td>\n",
       "      <td>NaN</td>\n",
       "      <td>NaN</td>\n",
       "      <td>dan</td>\n",
       "      <td>O</td>\n",
       "      <td>CCONJ</td>\n",
       "    </tr>\n",
       "    <tr>\n",
       "      <td>1764289</td>\n",
       "      <td>1764289</td>\n",
       "      <td>NaN</td>\n",
       "      <td>NaN</td>\n",
       "      <td>Penasihat</td>\n",
       "      <td>O</td>\n",
       "      <td>NOUN</td>\n",
       "    </tr>\n",
       "    <tr>\n",
       "      <td>1764290</td>\n",
       "      <td>1764290</td>\n",
       "      <td>NaN</td>\n",
       "      <td>NaN</td>\n",
       "      <td>Hukumnya</td>\n",
       "      <td>O</td>\n",
       "      <td>NOUN</td>\n",
       "    </tr>\n",
       "    <tr>\n",
       "      <td>1764291</td>\n",
       "      <td>1764291</td>\n",
       "      <td>NaN</td>\n",
       "      <td>NaN</td>\n",
       "      <td>;</td>\n",
       "      <td>O</td>\n",
       "      <td>PUNCT</td>\n",
       "    </tr>\n",
       "  </tbody>\n",
       "</table>\n",
       "<p>1764292 rows × 6 columns</p>\n",
       "</div>"
      ],
      "text/plain": [
       "         Unnamed: 0                                    doc           sentence  \\\n",
       "0                 0  doc: 13a5421c5a5de3dc125a2fd01278a5bb  sentence: 0000001   \n",
       "1                 1                                    NaN                NaN   \n",
       "2                 2                                    NaN                NaN   \n",
       "3                 3                                    NaN                NaN   \n",
       "4                 4                                    NaN                NaN   \n",
       "...             ...                                    ...                ...   \n",
       "1764287     1764287                                    NaN                NaN   \n",
       "1764288     1764288                                    NaN                NaN   \n",
       "1764289     1764289                                    NaN                NaN   \n",
       "1764290     1764290                                    NaN                NaN   \n",
       "1764291     1764291                                    NaN                NaN   \n",
       "\n",
       "              word        tag    pos  \n",
       "0          PUTUSAN          O   NOUN  \n",
       "1                .          O  PUNCT  \n",
       "2            NOMOR          O   NOUN  \n",
       "3                :          O  PUNCT  \n",
       "4             1974  B_putusan    NUM  \n",
       "...            ...        ...    ...  \n",
       "1764287   Terdakwa          O   NOUN  \n",
       "1764288        dan          O  CCONJ  \n",
       "1764289  Penasihat          O   NOUN  \n",
       "1764290   Hukumnya          O   NOUN  \n",
       "1764291          ;          O  PUNCT  \n",
       "\n",
       "[1764292 rows x 6 columns]"
      ]
     },
     "execution_count": 4,
     "metadata": {},
     "output_type": "execute_result"
    }
   ],
   "source": [
    "data = pd.read_csv(os.path.join(path, 'datasets', 'pos200.csv'))\n",
    "data"
   ]
  },
  {
   "cell_type": "markdown",
   "metadata": {
    "id": "XPpVK1P4Vny0"
   },
   "source": [
    "## Prev"
   ]
  },
  {
   "cell_type": "code",
   "execution_count": 5,
   "metadata": {
    "executionInfo": {
     "elapsed": 15,
     "status": "ok",
     "timestamp": 1683734015302,
     "user": {
      "displayName": "Ahmad Farisul Haq",
      "userId": "07167143471873573412"
     },
     "user_tz": -420
    },
    "id": "VlTbco9XRO7Q"
   },
   "outputs": [],
   "source": [
    "prev = data.word.tolist()"
   ]
  },
  {
   "cell_type": "code",
   "execution_count": 6,
   "metadata": {
    "executionInfo": {
     "elapsed": 16,
     "status": "ok",
     "timestamp": 1683734015303,
     "user": {
      "displayName": "Ahmad Farisul Haq",
      "userId": "07167143471873573412"
     },
     "user_tz": -420
    },
    "id": "jq5SmGClRUCl"
   },
   "outputs": [],
   "source": [
    "prev.insert(0,'.')"
   ]
  },
  {
   "cell_type": "code",
   "execution_count": 7,
   "metadata": {
    "executionInfo": {
     "elapsed": 16,
     "status": "ok",
     "timestamp": 1683734015303,
     "user": {
      "displayName": "Ahmad Farisul Haq",
      "userId": "07167143471873573412"
     },
     "user_tz": -420
    },
    "id": "mxOrMoIKVaGl"
   },
   "outputs": [],
   "source": [
    "data['prev'] = prev[:-1]"
   ]
  },
  {
   "cell_type": "code",
   "execution_count": 8,
   "metadata": {
    "colab": {
     "base_uri": "https://localhost:8080/",
     "height": 423
    },
    "executionInfo": {
     "elapsed": 16,
     "status": "ok",
     "timestamp": 1683734015303,
     "user": {
      "displayName": "Ahmad Farisul Haq",
      "userId": "07167143471873573412"
     },
     "user_tz": -420
    },
    "id": "rgV6hHnBVjN7",
    "outputId": "b3452974-5a1b-480a-b3ec-62f06a78c7dc"
   },
   "outputs": [
    {
     "data": {
      "text/html": [
       "<div>\n",
       "<style scoped>\n",
       "    .dataframe tbody tr th:only-of-type {\n",
       "        vertical-align: middle;\n",
       "    }\n",
       "\n",
       "    .dataframe tbody tr th {\n",
       "        vertical-align: top;\n",
       "    }\n",
       "\n",
       "    .dataframe thead th {\n",
       "        text-align: right;\n",
       "    }\n",
       "</style>\n",
       "<table border=\"1\" class=\"dataframe\">\n",
       "  <thead>\n",
       "    <tr style=\"text-align: right;\">\n",
       "      <th></th>\n",
       "      <th>Unnamed: 0</th>\n",
       "      <th>doc</th>\n",
       "      <th>sentence</th>\n",
       "      <th>word</th>\n",
       "      <th>tag</th>\n",
       "      <th>pos</th>\n",
       "      <th>prev</th>\n",
       "    </tr>\n",
       "  </thead>\n",
       "  <tbody>\n",
       "    <tr>\n",
       "      <td>0</td>\n",
       "      <td>0</td>\n",
       "      <td>doc: 13a5421c5a5de3dc125a2fd01278a5bb</td>\n",
       "      <td>sentence: 0000001</td>\n",
       "      <td>PUTUSAN</td>\n",
       "      <td>O</td>\n",
       "      <td>NOUN</td>\n",
       "      <td>.</td>\n",
       "    </tr>\n",
       "    <tr>\n",
       "      <td>1</td>\n",
       "      <td>1</td>\n",
       "      <td>NaN</td>\n",
       "      <td>NaN</td>\n",
       "      <td>.</td>\n",
       "      <td>O</td>\n",
       "      <td>PUNCT</td>\n",
       "      <td>PUTUSAN</td>\n",
       "    </tr>\n",
       "    <tr>\n",
       "      <td>2</td>\n",
       "      <td>2</td>\n",
       "      <td>NaN</td>\n",
       "      <td>NaN</td>\n",
       "      <td>NOMOR</td>\n",
       "      <td>O</td>\n",
       "      <td>NOUN</td>\n",
       "      <td>.</td>\n",
       "    </tr>\n",
       "    <tr>\n",
       "      <td>3</td>\n",
       "      <td>3</td>\n",
       "      <td>NaN</td>\n",
       "      <td>NaN</td>\n",
       "      <td>:</td>\n",
       "      <td>O</td>\n",
       "      <td>PUNCT</td>\n",
       "      <td>NOMOR</td>\n",
       "    </tr>\n",
       "    <tr>\n",
       "      <td>4</td>\n",
       "      <td>4</td>\n",
       "      <td>NaN</td>\n",
       "      <td>NaN</td>\n",
       "      <td>1974</td>\n",
       "      <td>B_putusan</td>\n",
       "      <td>NUM</td>\n",
       "      <td>:</td>\n",
       "    </tr>\n",
       "    <tr>\n",
       "      <td>...</td>\n",
       "      <td>...</td>\n",
       "      <td>...</td>\n",
       "      <td>...</td>\n",
       "      <td>...</td>\n",
       "      <td>...</td>\n",
       "      <td>...</td>\n",
       "      <td>...</td>\n",
       "    </tr>\n",
       "    <tr>\n",
       "      <td>1764287</td>\n",
       "      <td>1764287</td>\n",
       "      <td>NaN</td>\n",
       "      <td>NaN</td>\n",
       "      <td>Terdakwa</td>\n",
       "      <td>O</td>\n",
       "      <td>NOUN</td>\n",
       "      <td>serta</td>\n",
       "    </tr>\n",
       "    <tr>\n",
       "      <td>1764288</td>\n",
       "      <td>1764288</td>\n",
       "      <td>NaN</td>\n",
       "      <td>NaN</td>\n",
       "      <td>dan</td>\n",
       "      <td>O</td>\n",
       "      <td>CCONJ</td>\n",
       "      <td>Terdakwa</td>\n",
       "    </tr>\n",
       "    <tr>\n",
       "      <td>1764289</td>\n",
       "      <td>1764289</td>\n",
       "      <td>NaN</td>\n",
       "      <td>NaN</td>\n",
       "      <td>Penasihat</td>\n",
       "      <td>O</td>\n",
       "      <td>NOUN</td>\n",
       "      <td>dan</td>\n",
       "    </tr>\n",
       "    <tr>\n",
       "      <td>1764290</td>\n",
       "      <td>1764290</td>\n",
       "      <td>NaN</td>\n",
       "      <td>NaN</td>\n",
       "      <td>Hukumnya</td>\n",
       "      <td>O</td>\n",
       "      <td>NOUN</td>\n",
       "      <td>Penasihat</td>\n",
       "    </tr>\n",
       "    <tr>\n",
       "      <td>1764291</td>\n",
       "      <td>1764291</td>\n",
       "      <td>NaN</td>\n",
       "      <td>NaN</td>\n",
       "      <td>;</td>\n",
       "      <td>O</td>\n",
       "      <td>PUNCT</td>\n",
       "      <td>Hukumnya</td>\n",
       "    </tr>\n",
       "  </tbody>\n",
       "</table>\n",
       "<p>1764292 rows × 7 columns</p>\n",
       "</div>"
      ],
      "text/plain": [
       "         Unnamed: 0                                    doc           sentence  \\\n",
       "0                 0  doc: 13a5421c5a5de3dc125a2fd01278a5bb  sentence: 0000001   \n",
       "1                 1                                    NaN                NaN   \n",
       "2                 2                                    NaN                NaN   \n",
       "3                 3                                    NaN                NaN   \n",
       "4                 4                                    NaN                NaN   \n",
       "...             ...                                    ...                ...   \n",
       "1764287     1764287                                    NaN                NaN   \n",
       "1764288     1764288                                    NaN                NaN   \n",
       "1764289     1764289                                    NaN                NaN   \n",
       "1764290     1764290                                    NaN                NaN   \n",
       "1764291     1764291                                    NaN                NaN   \n",
       "\n",
       "              word        tag    pos       prev  \n",
       "0          PUTUSAN          O   NOUN          .  \n",
       "1                .          O  PUNCT    PUTUSAN  \n",
       "2            NOMOR          O   NOUN          .  \n",
       "3                :          O  PUNCT      NOMOR  \n",
       "4             1974  B_putusan    NUM          :  \n",
       "...            ...        ...    ...        ...  \n",
       "1764287   Terdakwa          O   NOUN      serta  \n",
       "1764288        dan          O  CCONJ   Terdakwa  \n",
       "1764289  Penasihat          O   NOUN        dan  \n",
       "1764290   Hukumnya          O   NOUN  Penasihat  \n",
       "1764291          ;          O  PUNCT   Hukumnya  \n",
       "\n",
       "[1764292 rows x 7 columns]"
      ]
     },
     "execution_count": 8,
     "metadata": {},
     "output_type": "execute_result"
    }
   ],
   "source": [
    "data"
   ]
  },
  {
   "cell_type": "markdown",
   "metadata": {
    "id": "NZrBKdNpVptY"
   },
   "source": [
    "## Next"
   ]
  },
  {
   "cell_type": "code",
   "execution_count": 9,
   "metadata": {
    "executionInfo": {
     "elapsed": 16,
     "status": "ok",
     "timestamp": 1683734015304,
     "user": {
      "displayName": "Ahmad Farisul Haq",
      "userId": "07167143471873573412"
     },
     "user_tz": -420
    },
    "id": "Hv7rSGl-Vrkl"
   },
   "outputs": [],
   "source": [
    "next = data.word.tolist()\n",
    "next.append('.')"
   ]
  },
  {
   "cell_type": "code",
   "execution_count": 10,
   "metadata": {
    "executionInfo": {
     "elapsed": 16,
     "status": "ok",
     "timestamp": 1683734015304,
     "user": {
      "displayName": "Ahmad Farisul Haq",
      "userId": "07167143471873573412"
     },
     "user_tz": -420
    },
    "id": "C7YiV6T_V5NV"
   },
   "outputs": [],
   "source": [
    "data['next'] = next[1:]"
   ]
  },
  {
   "cell_type": "code",
   "execution_count": 11,
   "metadata": {
    "colab": {
     "base_uri": "https://localhost:8080/",
     "height": 423
    },
    "executionInfo": {
     "elapsed": 16,
     "status": "ok",
     "timestamp": 1683734015304,
     "user": {
      "displayName": "Ahmad Farisul Haq",
      "userId": "07167143471873573412"
     },
     "user_tz": -420
    },
    "id": "4ptAXfMYV-hz",
    "outputId": "60774116-8b1e-4bf1-996f-761dfc94104a"
   },
   "outputs": [
    {
     "data": {
      "text/html": [
       "<div>\n",
       "<style scoped>\n",
       "    .dataframe tbody tr th:only-of-type {\n",
       "        vertical-align: middle;\n",
       "    }\n",
       "\n",
       "    .dataframe tbody tr th {\n",
       "        vertical-align: top;\n",
       "    }\n",
       "\n",
       "    .dataframe thead th {\n",
       "        text-align: right;\n",
       "    }\n",
       "</style>\n",
       "<table border=\"1\" class=\"dataframe\">\n",
       "  <thead>\n",
       "    <tr style=\"text-align: right;\">\n",
       "      <th></th>\n",
       "      <th>doc</th>\n",
       "      <th>sentence</th>\n",
       "      <th>word</th>\n",
       "      <th>pos</th>\n",
       "      <th>prev</th>\n",
       "      <th>next</th>\n",
       "      <th>tag</th>\n",
       "    </tr>\n",
       "  </thead>\n",
       "  <tbody>\n",
       "    <tr>\n",
       "      <td>0</td>\n",
       "      <td>doc: 13a5421c5a5de3dc125a2fd01278a5bb</td>\n",
       "      <td>sentence: 0000001</td>\n",
       "      <td>PUTUSAN</td>\n",
       "      <td>NOUN</td>\n",
       "      <td>.</td>\n",
       "      <td>.</td>\n",
       "      <td>O</td>\n",
       "    </tr>\n",
       "    <tr>\n",
       "      <td>1</td>\n",
       "      <td>NaN</td>\n",
       "      <td>NaN</td>\n",
       "      <td>.</td>\n",
       "      <td>PUNCT</td>\n",
       "      <td>PUTUSAN</td>\n",
       "      <td>NOMOR</td>\n",
       "      <td>O</td>\n",
       "    </tr>\n",
       "    <tr>\n",
       "      <td>2</td>\n",
       "      <td>NaN</td>\n",
       "      <td>NaN</td>\n",
       "      <td>NOMOR</td>\n",
       "      <td>NOUN</td>\n",
       "      <td>.</td>\n",
       "      <td>:</td>\n",
       "      <td>O</td>\n",
       "    </tr>\n",
       "    <tr>\n",
       "      <td>3</td>\n",
       "      <td>NaN</td>\n",
       "      <td>NaN</td>\n",
       "      <td>:</td>\n",
       "      <td>PUNCT</td>\n",
       "      <td>NOMOR</td>\n",
       "      <td>1974</td>\n",
       "      <td>O</td>\n",
       "    </tr>\n",
       "    <tr>\n",
       "      <td>4</td>\n",
       "      <td>NaN</td>\n",
       "      <td>NaN</td>\n",
       "      <td>1974</td>\n",
       "      <td>NUM</td>\n",
       "      <td>:</td>\n",
       "      <td>/</td>\n",
       "      <td>B_putusan</td>\n",
       "    </tr>\n",
       "    <tr>\n",
       "      <td>...</td>\n",
       "      <td>...</td>\n",
       "      <td>...</td>\n",
       "      <td>...</td>\n",
       "      <td>...</td>\n",
       "      <td>...</td>\n",
       "      <td>...</td>\n",
       "      <td>...</td>\n",
       "    </tr>\n",
       "    <tr>\n",
       "      <td>1764287</td>\n",
       "      <td>NaN</td>\n",
       "      <td>NaN</td>\n",
       "      <td>Terdakwa</td>\n",
       "      <td>NOUN</td>\n",
       "      <td>serta</td>\n",
       "      <td>dan</td>\n",
       "      <td>O</td>\n",
       "    </tr>\n",
       "    <tr>\n",
       "      <td>1764288</td>\n",
       "      <td>NaN</td>\n",
       "      <td>NaN</td>\n",
       "      <td>dan</td>\n",
       "      <td>CCONJ</td>\n",
       "      <td>Terdakwa</td>\n",
       "      <td>Penasihat</td>\n",
       "      <td>O</td>\n",
       "    </tr>\n",
       "    <tr>\n",
       "      <td>1764289</td>\n",
       "      <td>NaN</td>\n",
       "      <td>NaN</td>\n",
       "      <td>Penasihat</td>\n",
       "      <td>NOUN</td>\n",
       "      <td>dan</td>\n",
       "      <td>Hukumnya</td>\n",
       "      <td>O</td>\n",
       "    </tr>\n",
       "    <tr>\n",
       "      <td>1764290</td>\n",
       "      <td>NaN</td>\n",
       "      <td>NaN</td>\n",
       "      <td>Hukumnya</td>\n",
       "      <td>NOUN</td>\n",
       "      <td>Penasihat</td>\n",
       "      <td>;</td>\n",
       "      <td>O</td>\n",
       "    </tr>\n",
       "    <tr>\n",
       "      <td>1764291</td>\n",
       "      <td>NaN</td>\n",
       "      <td>NaN</td>\n",
       "      <td>;</td>\n",
       "      <td>PUNCT</td>\n",
       "      <td>Hukumnya</td>\n",
       "      <td>.</td>\n",
       "      <td>O</td>\n",
       "    </tr>\n",
       "  </tbody>\n",
       "</table>\n",
       "<p>1764292 rows × 7 columns</p>\n",
       "</div>"
      ],
      "text/plain": [
       "                                           doc           sentence       word  \\\n",
       "0        doc: 13a5421c5a5de3dc125a2fd01278a5bb  sentence: 0000001    PUTUSAN   \n",
       "1                                          NaN                NaN          .   \n",
       "2                                          NaN                NaN      NOMOR   \n",
       "3                                          NaN                NaN          :   \n",
       "4                                          NaN                NaN       1974   \n",
       "...                                        ...                ...        ...   \n",
       "1764287                                    NaN                NaN   Terdakwa   \n",
       "1764288                                    NaN                NaN        dan   \n",
       "1764289                                    NaN                NaN  Penasihat   \n",
       "1764290                                    NaN                NaN   Hukumnya   \n",
       "1764291                                    NaN                NaN          ;   \n",
       "\n",
       "           pos       prev       next        tag  \n",
       "0         NOUN          .          .          O  \n",
       "1        PUNCT    PUTUSAN      NOMOR          O  \n",
       "2         NOUN          .          :          O  \n",
       "3        PUNCT      NOMOR       1974          O  \n",
       "4          NUM          :          /  B_putusan  \n",
       "...        ...        ...        ...        ...  \n",
       "1764287   NOUN      serta        dan          O  \n",
       "1764288  CCONJ   Terdakwa  Penasihat          O  \n",
       "1764289   NOUN        dan   Hukumnya          O  \n",
       "1764290   NOUN  Penasihat          ;          O  \n",
       "1764291  PUNCT   Hukumnya          .          O  \n",
       "\n",
       "[1764292 rows x 7 columns]"
      ]
     },
     "execution_count": 11,
     "metadata": {},
     "output_type": "execute_result"
    }
   ],
   "source": [
    "df = data[['doc', 'sentence', 'word', 'pos', 'prev', 'next', 'tag']]\n",
    "df"
   ]
  },
  {
   "cell_type": "code",
   "execution_count": 12,
   "metadata": {
    "executionInfo": {
     "elapsed": 338,
     "status": "ok",
     "timestamp": 1683734015627,
     "user": {
      "displayName": "Ahmad Farisul Haq",
      "userId": "07167143471873573412"
     },
     "user_tz": -420
    },
    "id": "Q3WtpHWBWeMu"
   },
   "outputs": [],
   "source": [
    "df.to_csv(os.path.join(path, 'datasets', 'pos-prev-next200.csv'), index=False)"
   ]
  }
 ],
 "metadata": {
  "colab": {
   "authorship_tag": "ABX9TyOdAU1bO5qUvzWjtPML+tRI",
   "mount_file_id": "1iW59PYyVdXb1mte0t0Accx_XCON5KVmI",
   "provenance": []
  },
  "kernelspec": {
   "display_name": "Python 3",
   "language": "python",
   "name": "python3"
  },
  "language_info": {
   "codemirror_mode": {
    "name": "ipython",
    "version": 3
   },
   "file_extension": ".py",
   "mimetype": "text/x-python",
   "name": "python",
   "nbconvert_exporter": "python",
   "pygments_lexer": "ipython3",
   "version": "3.7.4"
  }
 },
 "nbformat": 4,
 "nbformat_minor": 1
}
